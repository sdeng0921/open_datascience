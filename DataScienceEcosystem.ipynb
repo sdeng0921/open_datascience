{
 "cells": [
  {
   "cell_type": "markdown",
   "id": "440b55b4-773c-42b2-84db-57813c77bac7",
   "metadata": {},
   "source": [
    "# Data Science Tools and Ecosystem"
   ]
  },
  {
   "cell_type": "markdown",
   "id": "d1bfb48e-571d-41d6-b153-71b8372c1212",
   "metadata": {},
   "source": [
    "In this notebook, Data Science Tools and Ecosystem are summarized."
   ]
  },
  {
   "cell_type": "markdown",
   "id": "a18146d0-6fb8-4581-8a91-66d59b6a8884",
   "metadata": {},
   "source": [
    "__Objectives:__\n",
    "* List popular languages for Data Science\n",
    "* List commonly used libraries by Data Scientist\n",
    "* List popular open source tools\n",
    "* Develop hands-on experience in using Jupyter Notebook\n",
    "* Share notebook through GitHub"
   ]
  },
  {
   "cell_type": "markdown",
   "id": "4aa81428-61e0-46b1-80b2-5d127d6285ae",
   "metadata": {},
   "source": [
    "## Author\n",
    "Hecan Deng"
   ]
  },
  {
   "cell_type": "markdown",
   "id": "06c02a73-7850-48ca-a241-b4ed406d0137",
   "metadata": {},
   "source": [
    "Some of the popular languages that Data Scientists use are:\n",
    "1. Python\n",
    "2. R\n",
    "3. SQL\n",
    "4. Julia"
   ]
  },
  {
   "cell_type": "markdown",
   "id": "1bd6f23d-96d5-425a-a19e-745125c6976e",
   "metadata": {},
   "source": [
    "Some of the commonly used libraries used by Data Scientists include:\n",
    "1. Numpy\n",
    "2. Pandas\n",
    "3. Matplotlib\n",
    "4. Seaborn"
   ]
  },
  {
   "cell_type": "markdown",
   "id": "fd73dcf6-2850-40b7-aca1-cc3713996f28",
   "metadata": {},
   "source": [
    "|Data Science Tools|\n",
    "|------------------|\n",
    "|Jupyter Notebook  |\n",
    "|Pycharm         |\n",
    "|Visual Studio Code|\n",
    "\n"
   ]
  },
  {
   "cell_type": "markdown",
   "id": "8cf62d5b-37a1-48a2-9418-6a313adc631c",
   "metadata": {},
   "source": [
    "### Below are a few examples of evaluating arithmetic expressions in Python"
   ]
  },
  {
   "cell_type": "code",
   "execution_count": 1,
   "id": "86eb6832-7d4e-4ddd-aa9d-54ff6817be7e",
   "metadata": {},
   "outputs": [
    {
     "data": {
      "text/plain": [
       "17"
      ]
     },
     "execution_count": 1,
     "metadata": {},
     "output_type": "execute_result"
    }
   ],
   "source": [
    "#This a simple arithmetic expression to mutiply then add integers\n",
    "(3*4)+5"
   ]
  },
  {
   "cell_type": "code",
   "execution_count": 2,
   "id": "9d668c44-0b56-4b90-b3b1-6b58a0c32e8d",
   "metadata": {},
   "outputs": [
    {
     "data": {
      "text/plain": [
       "3.3333333333333335"
      ]
     },
     "execution_count": 2,
     "metadata": {},
     "output_type": "execute_result"
    }
   ],
   "source": [
    "# This will convert 200 minutes to hours by diving by 60\n",
    "200/60"
   ]
  },
  {
   "cell_type": "code",
   "execution_count": null,
   "id": "a14903a2-f1df-4913-a0b2-05849a434ead",
   "metadata": {},
   "outputs": [],
   "source": []
  }
 ],
 "metadata": {
  "kernelspec": {
   "display_name": "Python 3 (ipykernel)",
   "language": "python",
   "name": "python3"
  },
  "language_info": {
   "codemirror_mode": {
    "name": "ipython",
    "version": 3
   },
   "file_extension": ".py",
   "mimetype": "text/x-python",
   "name": "python",
   "nbconvert_exporter": "python",
   "pygments_lexer": "ipython3",
   "version": "3.13.7"
  }
 },
 "nbformat": 4,
 "nbformat_minor": 5
}
